{
 "cells": [
  {
   "cell_type": "code",
   "execution_count": 1,
   "metadata": {},
   "outputs": [],
   "source": [
    "import numpy as np\n",
    "import pandas as pd\n",
    "\n",
    "from sklearn.naive_bayes import GaussianNB\n",
    "from sklearn.model_selection import train_test_split\n",
    "from sklearn import preprocessing\n",
    "from sklearn import metrics\n",
    "\n",
    "from NaiveBayes import NaiveBayes\n",
    "\n",
    "import warnings\n",
    "warnings.filterwarnings('ignore')"
   ]
  },
  {
   "cell_type": "markdown",
   "metadata": {},
   "source": [
    "## Helper functions:"
   ]
  },
  {
   "cell_type": "code",
   "execution_count": 2,
   "metadata": {},
   "outputs": [],
   "source": [
    "def split_training_set(X, y, encoded=False, random_state=1):\n",
    "    X_data = X.copy()\n",
    "    y_data = y.copy()\n",
    "    if encoded:\n",
    "        encoder = preprocessing.LabelEncoder()\n",
    "        for col in X_data.columns:\n",
    "            col_type = X_data[col].dtypes\n",
    "            if (col_type == np.object) or (col_type == np.bool):\n",
    "                X_data[col] = encoder.fit_transform(X_data[col])\n",
    "        y_data = encoder.fit_transform(y_data)\n",
    "    X_train, X_test, y_train, y_test = train_test_split(X_data, y_data, random_state=random_state)\n",
    "    return X_train, X_test, y_train, y_test\n",
    "\n",
    "def X_titanic_preprocessing(X):\n",
    "    X_data = X.copy()\n",
    "    \n",
    "    # Fill na\n",
    "    for col in X_data.columns:\n",
    "        col_type = X_data[col].dtypes\n",
    "        if (col_type == np.object) or (col_type == np.bool):\n",
    "            X_data[col].fillna('NaN', inplace=True)\n",
    "        else:\n",
    "            X_data[col].fillna(0, inplace=True)\n",
    "            \n",
    "    # Choose features\n",
    "    X_data = X_data[['Pclass', 'Sex', 'Age', 'SibSp', 'Parch', 'Fare', 'Cabin', 'Embarked']]\n",
    "    \n",
    "    return X_data"
   ]
  },
  {
   "cell_type": "markdown",
   "metadata": {},
   "source": [
    "## The dataset: [Titanic](https://www.kaggle.com/c/titanic/data)"
   ]
  },
  {
   "cell_type": "code",
   "execution_count": 3,
   "metadata": {},
   "outputs": [],
   "source": [
    "# Titanic Dataset\n",
    "titanic_data = pd.read_csv('train.csv')\n",
    "\n",
    "X_titanic_processed = X_titanic_preprocessing(titanic_data)\n",
    "y_titanic = titanic_data['Survived']\n",
    "\n",
    "X_train, X_test, y_train, y_test = split_training_set(X_titanic_processed, y_titanic)\n",
    "X_train_encoded, X_test_encoded, y_train_encoded, y_test_encoded = split_training_set(X_titanic_processed, y_titanic, encoded=True)"
   ]
  },
  {
   "cell_type": "markdown",
   "metadata": {},
   "source": [
    "## Base-line model using Gaussian Naive Bayes from sklearn:"
   ]
  },
  {
   "cell_type": "code",
   "execution_count": 4,
   "metadata": {},
   "outputs": [
    {
     "name": "stdout",
     "output_type": "stream",
     "text": [
      "Accuracy: 0.7354260089686099\n"
     ]
    }
   ],
   "source": [
    "# Base line model\n",
    "gnb = GaussianNB()\n",
    "gnb.fit(X_train_encoded, y_train_encoded)\n",
    "\n",
    "y_pred_encoded = gnb.predict(X_test_encoded)\n",
    "print(\"Accuracy:\", metrics.accuracy_score(y_test_encoded, y_pred_encoded))"
   ]
  },
  {
   "cell_type": "markdown",
   "metadata": {},
   "source": [
    "## My implementation of Naive Bayes:"
   ]
  },
  {
   "cell_type": "code",
   "execution_count": 5,
   "metadata": {},
   "outputs": [
    {
     "name": "stdout",
     "output_type": "stream",
     "text": [
      "Accuracy:  0.7130044843049327\n"
     ]
    }
   ],
   "source": [
    "my_nb = NaiveBayes()\n",
    "my_nb.fit(X_train, y_train)\n",
    "acc, y_pred = my_nb.test(X_test, y_test)\n",
    "print('Accuracy: ', acc)"
   ]
  }
 ],
 "metadata": {
  "kernelspec": {
   "display_name": "Python 3",
   "language": "python",
   "name": "python3"
  },
  "language_info": {
   "codemirror_mode": {
    "name": "ipython",
    "version": 3
   },
   "file_extension": ".py",
   "mimetype": "text/x-python",
   "name": "python",
   "nbconvert_exporter": "python",
   "pygments_lexer": "ipython3",
   "version": "3.6.8"
  }
 },
 "nbformat": 4,
 "nbformat_minor": 4
}
